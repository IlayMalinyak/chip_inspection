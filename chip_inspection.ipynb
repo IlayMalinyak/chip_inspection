{
  "nbformat": 4,
  "nbformat_minor": 0,
  "metadata": {
    "colab": {
      "name": "chip_inspection.ipynb",
      "provenance": [],
      "collapsed_sections": []
    },
    "kernelspec": {
      "name": "python3",
      "display_name": "Python 3"
    },
    "language_info": {
      "name": "python"
    },
    "gpuClass": "standard"
  },
  "cells": [
    {
      "cell_type": "code",
      "execution_count": null,
      "metadata": {
        "id": "LToArYsbb36X"
      },
      "outputs": [],
      "source": [
        "from matplotlib import pyplot as plt\n",
        "import cv2\n",
        "from skimage.feature import canny\n",
        "import numpy as np\n",
        "from scipy import signal\n",
        "from skimage.measure import regionprops\n",
        "from scipy.ndimage import label, binary_fill_holes, binary_erosion, gaussian_filter, median_filter, shift, generate_binary_structure, binary_dilation\n",
        "from patchify import patchify, unpatchify\n",
        "from torchvision import models, transforms\n",
        "import torch\n",
        "from PIL import Image\n",
        "from skimage.metrics import structural_similarity\n"
      ]
    },
    {
      "cell_type": "code",
      "source": [
        "from google.colab import drive\n",
        "drive.mount('/content/drive')\n"
      ],
      "metadata": {
        "colab": {
          "base_uri": "https://localhost:8080/"
        },
        "id": "Y-TViq5-cope",
        "outputId": "c0c2f669-d382-4cbb-9d95-1852a106461d"
      },
      "execution_count": null,
      "outputs": [
        {
          "output_type": "stream",
          "name": "stdout",
          "text": [
            "Drive already mounted at /content/drive; to attempt to forcibly remount, call drive.mount(\"/content/drive\", force_remount=True).\n"
          ]
        }
      ]
    },
    {
      "cell_type": "code",
      "source": [
        "normalize = lambda im: (im - np.mean(im))/np.std(im)\n",
        "normalize_zero_one = lambda im: (im - np.min(im)) / (np.max(im)- np.min(im))\n",
        "tif_to_gray = lambda im: 0.299*im[...,0] + 0.587*im[...,1] + 0.114*im[...,2]"
      ],
      "metadata": {
        "id": "_DKDRvNeElkC"
      },
      "execution_count": null,
      "outputs": []
    },
    {
      "cell_type": "code",
      "source": [
        "def align_images(im1, im2):\n",
        "  im1_gray = normalize(cv2.cvtColor(im1, cv2.COLOR_BGR2GRAY))\n",
        "  im2_gray = normalize(cv2.cvtColor(im2, cv2.COLOR_BGR2GRAY))\n",
        "  bounds = np.array(im1_gray.shape[:2])//4\n",
        "  template = im1_gray[bounds[0]:-bounds[0],bounds[1]:-bounds[1]]\n",
        "  corr = signal.correlate2d(im2_gray, template, boundary='symm', mode='same')\n",
        "  y, x = np.unravel_index(np.argmax(corr), corr.shape)\n",
        "  shift_y, shift_x = y - im1.shape[0]//2, x - im1.shape[1]//2\n",
        "  im1_shifted = shift(im1, (shift_y, shift_x, 0))\n",
        "  if shift_y > 0:\n",
        "    im2[:shift_y,:,:] = 0\n",
        "  else:\n",
        "    im2[shift_y:,:,:] = 0\n",
        "  if shift_x > 0:\n",
        "    im2[:,:shift_x,:] = 0\n",
        "  else:\n",
        "    im2[:,shift_x:,:] = 0\n",
        "  return im1_shifted, im2"
      ],
      "metadata": {
        "id": "hrKaAmktJAd-"
      },
      "execution_count": null,
      "outputs": []
    },
    {
      "cell_type": "code",
      "source": [
        "def generate_vgg_features_maps(image, transform):\n",
        "  vgg = models.vgg19(True)\n",
        "  vgg.eval()\n",
        "  model = list(vgg.children())[0]\n",
        "  layers = []\n",
        "  output_idx = []\n",
        "  for i, layer in enumerate(list(model.children())):\n",
        "    layers.append(layer)\n",
        "    if type(layer) == torch.nn.modules.conv.Conv2d:\n",
        "      output_idx.append(i)\n",
        "\n",
        "  image = transform(Image.fromarray(image))\n",
        "  image = image.unsqueeze(0)\n",
        "\n",
        "  outputs = []\n",
        "  names = []\n",
        "  for i, layer in enumerate(layers):\n",
        "      image = layer(image)\n",
        "      # print(\"shape in vgg \", image.shape)\n",
        "      if i in output_idx:\n",
        "        feature_map = image.squeeze(0)\n",
        "        gray_scale = torch.sum(feature_map,0)\n",
        "        gray_scale = gray_scale / feature_map.shape[0]\n",
        "        outputs.append(gray_scale.detach().numpy())\n",
        "  return outputs\n"
      ],
      "metadata": {
        "id": "vGd28EIOlWUo"
      },
      "execution_count": null,
      "outputs": []
    },
    {
      "cell_type": "code",
      "source": [
        "def sum_layer(layers_arr, size=None):\n",
        "  res = layers_arr[0]\n",
        "  for i in range(1,len(layers_arr)):\n",
        "    res += layers_arr[i]\n",
        "  if size is not None:\n",
        "    res = np.array(Image.fromarray(res).resize(size, Image.NEAREST))\n",
        "  return res"
      ],
      "metadata": {
        "id": "hR0o__CTU8VX"
      },
      "execution_count": null,
      "outputs": []
    },
    {
      "cell_type": "code",
      "source": [
        "def get_all_sumed_layers(features, layer_idx, size=None):\n",
        "  sum_features = []\n",
        "  for i in range(len(layer_idx)-1):\n",
        "    sum_features.append(sum_layer(features[layer_idx[i]:layer_idx[i+1]], size=size))\n",
        "  return sum_features"
      ],
      "metadata": {
        "id": "v05a-Ov0VAuH"
      },
      "execution_count": null,
      "outputs": []
    },
    {
      "cell_type": "code",
      "source": [
        "def concatenate_layers(features, layer_idx):\n",
        "  conct_features = []\n",
        "  for i in range(len(layer_idx)-1):\n",
        "    arr = np.array(features[layer_idx[i]:layer_idx[i+1]])\n",
        "    conct_features.append(arr)\n",
        "  return conct_features"
      ],
      "metadata": {
        "id": "4GgZP_YHYbLk"
      },
      "execution_count": null,
      "outputs": []
    },
    {
      "cell_type": "code",
      "source": [
        "def resize_layers(features):\n",
        "  m = torch.nn.Upsample(mode='nearest')\n",
        "  prev = None\n",
        "  for i in range(len(features)):\n",
        "    f = features[i]\n",
        "    cur = np.concatenate((f, prev)) if prev is not None else f\n",
        "    m.size = features[i+1].shape[1:] if i < len(features) - 1 else f.shape\n",
        "    f_tensor = torch.from_numpy(np.array(cur)).unsqueeze(0)\n",
        "    if i == len(features) - 1:\n",
        "      return f_tensor.squeeze(0).numpy()\n",
        "    cur = m(f_tensor).squeeze(0).numpy()\n",
        "    prev = cur\n"
      ],
      "metadata": {
        "id": "V2vbcRSNYfZG"
      },
      "execution_count": null,
      "outputs": []
    },
    {
      "cell_type": "code",
      "source": [
        "def get_threshold_map(feature_arr, num_std):\n",
        "  thresh = np.zeros_like(feature_arr)\n",
        "  white = np.where(feature_arr > np.mean(feature_arr) + num_std*np.std(feature_arr))\n",
        "  thresh[white] = 1\n",
        "  return thresh"
      ],
      "metadata": {
        "id": "XIl6rK8Y2LLA"
      },
      "execution_count": null,
      "outputs": []
    },
    {
      "cell_type": "code",
      "source": [
        "def get_regions(layer, sigma):\n",
        "  add = np.zeros_like(layer[0])\n",
        "  for i in range(len(layer)):\n",
        "    add = np.logical_or(add, layer[i])\n",
        "  return gaussian_filter(add,sigma)  "
      ],
      "metadata": {
        "id": "0i3Mdg5tFXm6"
      },
      "execution_count": null,
      "outputs": []
    },
    {
      "cell_type": "code",
      "source": [
        "def prepare_features(img, transform, layers_idx):\n",
        "  features = generate_vgg_features_maps(img, transform)\n",
        "  features = concatenate_layers(features,layer_idx)\n",
        "  return resize_layers(features[::-1])"
      ],
      "metadata": {
        "id": "VpLpG8YFRqvj"
      },
      "execution_count": null,
      "outputs": []
    },
    {
      "cell_type": "code",
      "source": [
        "def create_labels_im(img1, img2, sigma):\n",
        "  im1_norm = normalize(tif_to_gray(img1))\n",
        "  im2_norm = normalize(tif_to_gray(img2))\n",
        "  im_labels = get_threshold_map((im1_norm - im2_norm)**2, sigma)\n",
        "  return im_labels"
      ],
      "metadata": {
        "id": "wo7T3gv-S1TW"
      },
      "execution_count": null,
      "outputs": []
    },
    {
      "cell_type": "code",
      "source": [
        "def find_regions(im_inspected, im_reference, transform, layers_idx, sigma):\n",
        "  features_arr1 = prepare_features(im_inspected, transform, layers_idx)\n",
        "  features_arr2 = prepare_features(im_reference, transform, layers_idx)\n",
        "  diff = np.array([(features_arr1[i] - features_arr2[i])**2 for i in range(len(features_arr1))])\n",
        "  ssim = np.array([structural_similarity(features_arr1[i], features_arr2[i], win_size=3, full=True)[1] for i in range(len(features_arr1))])\n",
        "  ssim = 1 - ssim\n",
        "  tot = np.zeros_like(diff[0])\n",
        "  last_layer = np.zeros_like(diff[0])\n",
        "  for f in range(len(diff)):\n",
        "    if f > 13:\n",
        "      ssim_layer = get_threshold_map(ssim[f], sigma/2)\n",
        "      ssim_layer = binary_erosion(binary_fill_holes(ssim_layer))\n",
        "      last_layer = np.logical_or(last_layer, ssim_layer)\n",
        "    thresh_layer = get_threshold_map(diff[f], sigma)\n",
        "    tot = np.logical_or(tot, thresh_layer)\n",
        "  if len(np.where(last_layer)[0]) == 0:\n",
        "    return last_layer, last_layer\n",
        "  return tot,last_layer"
      ],
      "metadata": {
        "id": "hSOZYG2DUE6U"
      },
      "execution_count": null,
      "outputs": []
    },
    {
      "cell_type": "code",
      "source": [
        "def analyze_regions(raw_regions):\n",
        "  centers = []\n",
        "  labels, num_labels = label(raw_regions)\n",
        "  props = regionprops(labels)\n",
        "  # print('number of labels ', num_labels)\n",
        "  for i in range(1,num_labels):\n",
        "    center = props[i].centroid\n",
        "    centers.append(np.array(center).astype(np.int16))\n",
        "  return centers"
      ],
      "metadata": {
        "id": "R_-Gwk6VIvXB"
      },
      "execution_count": null,
      "outputs": []
    },
    {
      "cell_type": "code",
      "source": [
        "def cc_recursive(im, cur, cc, visited):\n",
        "    visited[cur[0],cur[1]] = 1\n",
        "    if cur[0] >= len(im) - 1 or cur[1] >= len(im[0]) - 1:\n",
        "      print('reached boundry ', cur)\n",
        "      return np.array(cc)\n",
        "    if im[cur[0], cur[1]] == 1:\n",
        "        if cur not in cc:\n",
        "            cc.append(cur)\n",
        "    else:\n",
        "        return np.array(cc)\n",
        "    directions ={(0, 1), (1, 0), (0, -1), (-1, 0), (1, 1), (1, -1), (-1, 1), (-1, -1)}\n",
        "    neighbours = [(cur[0] + d[0], cur[1] + d[1]) for d in directions]\n",
        "    neighbours = filter(lambda n: not visited[n[0], n[1]], neighbours)\n",
        "    for n in neighbours:\n",
        "        cc_recursive(im, n, cc, visited)\n",
        "    return np.array(cc)"
      ],
      "metadata": {
        "id": "q3wzHvCrZIlm"
      },
      "execution_count": null,
      "outputs": []
    },
    {
      "cell_type": "code",
      "source": [
        "def run_on_patchs(im1,im2, transform, layer_idx, sigma):\n",
        "  size = np.array(im1.shape[:2])\n",
        "  res = np.zeros(size)\n",
        "  p_size =  size // 4\n",
        "  leftover = size % 4\n",
        "  r_idx = np.arange(0,size[0], p_size[0])\n",
        "  r_idx[-1] += leftover[0]\n",
        "  c_idx = np.arange(0,size[1], p_size[1])\n",
        "  c_idx[-1] += leftover[1]\n",
        "  for i in range(len(r_idx)-1):\n",
        "    for j in range(len(c_idx)):\n",
        "      # print(i,j)\n",
        "      r1,c1 = r_idx[i], c_idx[j]\n",
        "      r2 = r_idx[i+1] if i < len(r_idx) - 1 else size[0]\n",
        "      c2 = c_idx[j+1] if j < len(c_idx) - 1 else size[1]\n",
        "      p1 = im1[r1:r2,c1:c2,:]\n",
        "      p2 = im2[r1:r2,c1:c2,:]\n",
        "      tot, last = find_regions(p1, p2, transform, layer_idx, sigma)\n",
        "      res[r1:r2,c1:c2] = tot\n",
        "      # fig, axes = plt.subplots(1,2)\n",
        "      # axes[0].imshow(res,cmap='gray')\n",
        "      # axes[0].set_title('total')\n",
        "      # axes[1].imshow(last,cmap='gray')\n",
        "      # axes[1].set_title('last')\n",
        "      # plt.show()\n",
        "  return res"
      ],
      "metadata": {
        "id": "dkQV6QV9dSuM"
      },
      "execution_count": null,
      "outputs": []
    },
    {
      "cell_type": "code",
      "source": [
        "path1 = 'drive/MyDrive/datasets/chip/images/defective_examples/case{}_inspected_image.tif'\n",
        "path2 = 'drive/MyDrive/datasets/chip/images/defective_examples/case{}_reference_image.tif'"
      ],
      "metadata": {
        "id": "ye1znrT15Wnf"
      },
      "execution_count": null,
      "outputs": []
    },
    {
      "cell_type": "code",
      "source": [
        "def find_defects(im_index, sigma):\n",
        "  im1 = cv2.imread(path1.format(im_index))\n",
        "  im2 = cv2.imread(path2.format(im_index))\n",
        "  print(\"aligning...\")\n",
        "  im1, im2 = align_images(im1, im2)\n",
        "  layer_idx = [0,2,4,8,12,16]\n",
        "  transform = transforms.Compose([ transforms.ToTensor(), transforms.Normalize(mean=0., std=1.) ])\n",
        "  print(\"calculating patchwise regions proposal...\")\n",
        "  tot = run_on_patchs(im1, im2, transform,layer_idx, sigma)\n",
        "  im_labels = create_labels_im(im1,im2,sigma/3)\n",
        "  defect_im = np.zeros_like(im_labels)\n",
        "  sect = np.logical_and(tot, im_labels)\n",
        "  sect_idx = np.array(np.where(sect)).T\n",
        "  labels, num_labels = label(im_labels)\n",
        "  print(\"segmenting...\")\n",
        "  for i in range(num_labels):\n",
        "    obj = np.array(np.where(labels==i)).T\n",
        "    is_defect = (obj==sect_idx[:,None]).all(-1).any()\n",
        "    if is_defect:\n",
        "      # print(obj.shape)\n",
        "      defect_im[obj[:,0],obj[:,1]]=1\n",
        "  plt.imshow(im_labels,cmap='gray')\n",
        "  plt.title('labels')\n",
        "  plt.savefig(f\"drive/MyDrive/datasets/chip/results/{im_index}_labels\")\n",
        "  plt.show()\n",
        "  plt.imshow(defect_im,cmap='gray')\n",
        "  plt.title('defects')\n",
        "  plt.savefig(f\"drive/MyDrive/datasets/chip/results/{im_index}_defects\")\n",
        "  plt.show()\n",
        "  return defect_im\n",
        "\n"
      ],
      "metadata": {
        "id": "G8o5-81euCc2"
      },
      "execution_count": null,
      "outputs": []
    },
    {
      "cell_type": "code",
      "source": [
        "res = find_defects(1, 6)"
      ],
      "metadata": {
        "colab": {
          "base_uri": "https://localhost:8080/",
          "height": 686
        },
        "id": "s3V8bo2Vtk-W",
        "outputId": "ebb88b75-c36b-41c2-8b75-c752628a12f7"
      },
      "execution_count": null,
      "outputs": [
        {
          "output_type": "stream",
          "name": "stdout",
          "text": [
            "aligning...\n",
            "calculating patchwise regions proposal...\n"
          ]
        },
        {
          "output_type": "stream",
          "name": "stderr",
          "text": [
            "/usr/local/lib/python3.7/dist-packages/torchvision/models/_utils.py:136: UserWarning: Using 'weights' as positional parameter(s) is deprecated since 0.13 and will be removed in 0.15. Please use keyword parameter(s) instead.\n",
            "  f\"Using {sequence_to_str(tuple(keyword_only_kwargs.keys()), separate_last='and ')} as positional \"\n",
            "/usr/local/lib/python3.7/dist-packages/torchvision/models/_utils.py:223: UserWarning: Arguments other than a weight enum or `None` for 'weights' are deprecated since 0.13 and will be removed in 0.15. The current behavior is equivalent to passing `weights=VGG19_Weights.IMAGENET1K_V1`. You can also use `weights=VGG19_Weights.DEFAULT` to get the most up-to-date weights.\n",
            "  warnings.warn(msg)\n"
          ]
        },
        {
          "output_type": "stream",
          "name": "stdout",
          "text": [
            "segmenting...\n"
          ]
        },
        {
          "output_type": "display_data",
          "data": {
            "text/plain": [
              "<Figure size 432x288 with 1 Axes>"
            ],
            "image/png": "[encoded data removed]"
          },
          "metadata": {
            "needs_background": "light"
          }
        },
        {
          "output_type": "display_data",
          "data": {
            "text/plain": [
              "<Figure size 432x288 with 1 Axes>"
            ],
            "image/png": "[encoded data removed]"
          },
          "metadata": {
            "needs_background": "light"
          }
        }
      ]
    }
  ]
}